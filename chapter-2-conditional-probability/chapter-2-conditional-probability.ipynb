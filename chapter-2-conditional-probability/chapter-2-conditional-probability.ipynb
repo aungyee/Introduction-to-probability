{
 "cells": [
  {
   "cell_type": "markdown",
   "metadata": {},
   "source": [
    "# Simulatting the frequentist interpretation"
   ]
  },
  {
   "cell_type": "code",
   "execution_count": 1,
   "metadata": {
    "vscode": {
     "languageId": "r"
    }
   },
   "outputs": [],
   "source": [
    "n <- 10^5\n",
    "child1 <- sample(2,n,replace = TRUE) # gender of elder child\n",
    "child2 <- sample(2,n,replace = TRUE) # gender of younger child"
   ]
  },
  {
   "cell_type": "code",
   "execution_count": 6,
   "metadata": {
    "vscode": {
     "languageId": "r"
    }
   },
   "outputs": [
    {
     "data": {
      "text/html": [
       "0.501434331681679"
      ],
      "text/latex": [
       "0.501434331681679"
      ],
      "text/markdown": [
       "0.501434331681679"
      ],
      "text/plain": [
       "[1] 0.5014343"
      ]
     },
     "metadata": {},
     "output_type": "display_data"
    }
   ],
   "source": [
    "# let A be the event that both children are girls and B the event that the elder is a girl\n",
    "\n",
    "n.B <- sum(child1 == 1) # assuming 1 represent girl # P(B)\n",
    "n.AB <- sum(child1 == 1 & child2 == 1) # both a and b occur # P(A,B)\n",
    "n.AB/n.B # P(A|B) = P(A,B)/P(B)"
   ]
  },
  {
   "cell_type": "code",
   "execution_count": 10,
   "metadata": {
    "vscode": {
     "languageId": "r"
    }
   },
   "outputs": [
    {
     "data": {
      "text/html": [
       "0.333164502972303"
      ],
      "text/latex": [
       "0.333164502972303"
      ],
      "text/markdown": [
       "0.333164502972303"
      ],
      "text/plain": [
       "[1] 0.3331645"
      ]
     },
     "metadata": {},
     "output_type": "display_data"
    }
   ],
   "source": [
    "# let A be the event that both children are girls and B the event that at least one of the children is a girl\n",
    "n.B <- sum(child1 == 1 | child2 ==1) # P(B)\n",
    "n.AB <- sum(child1 == 1 & child2 == 1) # P(A,B)\n",
    "n.AB/n.B # P(A|B) = P(A,B)/P(B)"
   ]
  },
  {
   "cell_type": "markdown",
   "metadata": {},
   "source": [
    "# Monty Hall"
   ]
  },
  {
   "cell_type": "code",
   "execution_count": 11,
   "metadata": {
    "vscode": {
     "languageId": "r"
    }
   },
   "outputs": [
    {
     "data": {
      "text/html": [
       "0.33322"
      ],
      "text/latex": [
       "0.33322"
      ],
      "text/markdown": [
       "0.33322"
      ],
      "text/plain": [
       "[1] 0.33322"
      ]
     },
     "metadata": {},
     "output_type": "display_data"
    }
   ],
   "source": [
    "# Never switch strategy\n",
    "\n",
    "n <- 10^5\n",
    "cardoor <- sample(3,n,replace = TRUE) # which door has car\n",
    "\n",
    "success <- sum(cardoor == 1) # assuming player always choose door 1 for simplicity without lost of generality\n",
    "\n",
    "success/n"
   ]
  },
  {
   "cell_type": "code",
   "execution_count": 14,
   "metadata": {
    "vscode": {
     "languageId": "r"
    }
   },
   "outputs": [],
   "source": [
    "# interactive Monty Hall Game\n",
    "\n",
    "monty <- function() {\n",
    "    doors <- 1:3\n",
    "\n",
    "    # randomly pick where the car is\n",
    "    cardoor <- sample(doors, 1)\n",
    "\n",
    "    # prompt player\n",
    "    print(\"Monty Hall says 'Pick a door, any door!'\")\n",
    "\n",
    "    # receive the player's choice of door (should be 1, 2 or 3)\n",
    "    chosen <- scan(what = integer(), nlines = 1, quiet = TRUE )\n",
    "\n",
    "    # pick Monty's door (can't be the player's door or the car door)\n",
    "    if (chosen != cardoor) montydoor <- doors[-c(chosen, cardoor)]\n",
    "    else montydoor <- sample(doors[-chosen], 1)\n",
    "\n",
    "    # find out whether the player wants to switch doors\n",
    "    print(paste(\"Monty opens door \", montydoor, \"!\", sep=\"\"))\n",
    "    print(\"Would you like to switch (y/n)?\")\n",
    "    reply <- scan(what = character(), nlines = 1, quiet = TRUE)\n",
    "\n",
    "    # interpret what player wrote as \"yes\" if it starts with \"y\"\n",
    "    if (substr(reply, 1, 1) == \"y\") {\n",
    "        chosen <- doors[-c(chosen, montydoor)]\n",
    "    }\n",
    "\n",
    "    # announce the result of the game!\n",
    "    if (chosen == cardoor) print(\"You won!\")\n",
    "    else print(\"You lost!\")\n",
    "}"
   ]
  },
  {
   "cell_type": "markdown",
   "metadata": {},
   "source": [
    "Copy the monty() function in the R terminal and call monty()"
   ]
  }
 ],
 "metadata": {
  "kernelspec": {
   "display_name": "R",
   "language": "R",
   "name": "ir"
  },
  "language_info": {
   "codemirror_mode": "r",
   "file_extension": ".r",
   "mimetype": "text/x-r-source",
   "name": "R",
   "pygments_lexer": "r",
   "version": "4.3.1"
  }
 },
 "nbformat": 4,
 "nbformat_minor": 2
}
